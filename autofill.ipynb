{
 "cells": [
  {
   "cell_type": "code",
   "execution_count": 1,
   "metadata": {},
   "outputs": [],
   "source": [
    "from selenium import webdriver\n",
    "from selenium.webdriver.common.keys import Keys\n",
    "import pandas as pd\n",
    "import time\n",
    "import re"
   ]
  },
  {
   "cell_type": "code",
   "execution_count": 12,
   "metadata": {},
   "outputs": [],
   "source": [
    "df = pd.read_csv(r\"C:\\Users\\Jonathan\\Downloads\\t2list.csv\")\n",
    "##df['Year-Started-Business'][98]"
   ]
  },
  {
   "cell_type": "code",
   "execution_count": 18,
   "metadata": {},
   "outputs": [],
   "source": [
    "df = pd.read_excel(r\"C:\\Users\\Jonathan\\Downloads\\flist.xlsx\", sheet_name = 1)"
   ]
  },
  {
   "cell_type": "code",
   "execution_count": 10,
   "metadata": {},
   "outputs": [],
   "source": [
    "df = pd.read_csv(r\"/Users/jonathan_jing/Downloads/nblist.csv\")"
   ]
  },
  {
   "cell_type": "code",
   "execution_count": 13,
   "metadata": {},
   "outputs": [
    {
     "data": {
      "text/plain": [
       "['Consultant Claimed',\n",
       " 'Name of the Business',\n",
       " 'Legal Entity Name',\n",
       " 'Name (First)',\n",
       " 'Name (Last)',\n",
       " 'Full Name',\n",
       " 'Email Address',\n",
       " 'Phone Number',\n",
       " 'Award Amount',\n",
       " 'Address (Address)',\n",
       " 'Address (Address2)',\n",
       " 'Address (City)',\n",
       " 'Address (State)',\n",
       " 'Address (Zip)',\n",
       " 'Business License Account Number',\n",
       " 'Business Address (Address)',\n",
       " 'Business Address (Address2)',\n",
       " 'Business Address (City)',\n",
       " 'Business Address (State)',\n",
       " 'Business Address (Zip)',\n",
       " 'Phone Number.1',\n",
       " 'Email Address.1',\n",
       " 'Year Business Started',\n",
       " 'Website',\n",
       " 'Type of Business',\n",
       " 'Profit-structure-Business',\n",
       " 'Are you a home-based business?',\n",
       " 'Total Grant Amount Requested',\n",
       " 'How has your business been impacted by COVID-19 (Mark all that apply):',\n",
       " 'Number of Business Owner(s)',\n",
       " 'Number of Full Time Employees',\n",
       " 'Number of Part-Time Employees',\n",
       " 'EMP COUNT',\n",
       " 'Jan 20',\n",
       " 'Feb 20',\n",
       " 'Mar 20',\n",
       " 'Apr 20',\n",
       " 'May 20',\n",
       " 'Jun 20',\n",
       " 'As of this date, has your business received any funding through the Economic Injury Disaster Loan (EIDL), the Paycheck Protection Program (PPP) or other funding source? If you have applied for either or both of the programs and have been denied, please check no.',\n",
       " 'SBA Economic Injury Disaster Loan Funding?',\n",
       " 'EIDL - How much?',\n",
       " 'SBA Economic Injury Disaster Loan Advance Funding?',\n",
       " 'EIDL Advance - How much?',\n",
       " 'SBA Payroll Protection Program Funding?',\n",
       " 'PPP - How much?',\n",
       " 'Inventory and Working Capital (no more than 25% of the total)',\n",
       " 'Purchase of Personal Protective Equipment',\n",
       " 'Rent or Commercial Mortgage Payments for Business',\n",
       " 'Addressing Temporary COVID-19 Restrictions on Business Activity',\n",
       " 'Increasing Technology Capacity to Enable Alternative Work Platforms',\n",
       " 'Creating new marketing campaigns or business plans',\n",
       " 'Paying vendor invoices',\n",
       " 'Facility cleaning/restoration',\n",
       " 'Utilities',\n",
       " 'Other - Please specify amount:',\n",
       " 'Other - Provide description for above \"other expense\" or if not applicable, write \"none.\"',\n",
       " 'Total',\n",
       " 'Owner Signature',\n",
       " \"Today's Date\",\n",
       " 'Co-Owner Signature',\n",
       " \"Today's Date.1\",\n",
       " 'Have You Ensured Everything in Your Application is Correct?',\n",
       " 'Browser',\n",
       " 'IP Address',\n",
       " 'Unique ID',\n",
       " 'Location']"
      ]
     },
     "execution_count": 13,
     "metadata": {},
     "output_type": "execute_result"
    }
   ],
   "source": [
    "list(df.columns)"
   ]
  },
  {
   "cell_type": "code",
   "execution_count": 4,
   "metadata": {},
   "outputs": [],
   "source": [
    "browser = webdriver.Chrome()\n",
    "browser.get('https://trisbdc.neoserra.com/clients/new')\n",
    "username = browser.find_element_by_id('username')\n",
    "username.send_keys('zjing')\n",
    "password = browser.find_element_by_xpath('//*[@id=\"loginpanel\"]/form/table/tbody/tr[2]/td[2]/input')\n",
    "password.send_keys('03172020')\n",
    "signInButton = browser.find_element_by_id('submit')\n",
    "signInButton.click()"
   ]
  },
  {
   "cell_type": "code",
   "execution_count": 10,
   "metadata": {},
   "outputs": [],
   "source": [
    "## of row\n",
    "i = 2\n",
    "i = i-2"
   ]
  },
  {
   "cell_type": "markdown",
   "metadata": {},
   "source": [
    "<a id=\"another_cell\"></a>"
   ]
  },
  {
   "cell_type": "code",
   "execution_count": 509,
   "metadata": {},
   "outputs": [
    {
     "name": "stdout",
     "output_type": "stream",
     "text": [
      "Row: 509\n"
     ]
    }
   ],
   "source": [
    "i = i + 1\n",
    "print(\"Row:\", i+2)"
   ]
  },
  {
   "cell_type": "code",
   "execution_count": 16,
   "metadata": {},
   "outputs": [],
   "source": [
    "browser.get('https://trisbdc.neoserra.com/clients/new')"
   ]
  },
  {
   "cell_type": "code",
   "execution_count": 17,
   "metadata": {},
   "outputs": [],
   "source": [
    "browser.find_element_by_id('s2id_counselid').click()\n",
    "browser.find_element_by_id('s2id_autogen1_search').send_keys(df['Consultant Claimed'][i])\n",
    "browser.find_element_by_id('s2id_autogen1_search').send_keys(Keys.TAB)\n",
    "\n",
    "browser.find_element_by_id('company').send_keys(df['Name-of-Business'][i])\n",
    "\n",
    "browser.find_element_by_xpath('//*[@id=\"type2\"]/label[2]/span').click()\n",
    "\n",
    "browser.find_element_by_xpath('//*[@id=\"status\"]/label[2]/span').click()\n",
    "browser.find_element_by_id('estab').send_keys(int(df['Year-Started-Business'][i]))\n",
    "#browser.find_element_by_id('estab').send_keys(\"2019\")\n",
    "\n",
    "browser.find_element_by_id('first').send_keys(df['Name (First)'][i])\n",
    "browser.find_element_by_id('last').send_keys(df['Name (Last)'][i])\n",
    "browser.find_element_by_id('email').send_keys(df['Email Address'][i])\n",
    "browser.find_element_by_id('phone').send_keys(df['Phone Number'][i])\n",
    "\n",
    "browser.find_element_by_id('mailaddr').send_keys(df['Business Address (Address)'][i])\n",
    "browser.find_element_by_id('mailcity').send_keys(df['Business Address (City)'][i])\n",
    "browser.find_element_by_id('mailst').find_elements_by_tag_name(\"option\")[6].click()\n",
    "browser.find_element_by_id('mailzip').send_keys(df['Business Address (Zip)'][i])\n",
    "\n",
    "#browser.find_element_by_id('main-edit-save-button').click()"
   ]
  },
  {
   "cell_type": "code",
   "execution_count": 63,
   "metadata": {},
   "outputs": [
    {
     "name": "stdout",
     "output_type": "stream",
     "text": [
      "18639  THE FIND CONSIGNMENTS\n"
     ]
    }
   ],
   "source": [
    "client_id = browser.find_element_by_id('spanCLIENT')\n",
    "print(client_id.text, df['Name of the Business'][i])\n",
    "\n",
    "browser.find_element_by_id('eleFT_EMPS').clear()\n",
    "#if int(df['EMP COUNT'][i]) == 0:\n",
    "#    browser.find_element_by_id('eleFT_EMPS').send_keys(1)\n",
    "#else:\n",
    "#    browser.find_element_by_id('eleFT_EMPS').send_keys(int(df['EMP COUNT'][i]))\n",
    "browser.find_element_by_id('eleFT_EMPS').send_keys(1)\n",
    "\n",
    "#if df['Owner-sex'][i] == 'Male':\n",
    "#    browser.find_element_by_id('eleOWNER_GENDER').find_elements_by_tag_name(\"option\")[2].click()\n",
    "#elif df['Owner-sex'][i] == 'Female':\n",
    "#    browser.find_element_by_id('eleOWNER_GENDER').find_elements_by_tag_name(\"option\")[5].click()\n",
    "#else:\n",
    "#    browser.find_element_by_id('eleOWNER_GENDER').find_elements_by_tag_name(\"option\")[2].click()\n",
    "browser.find_element_by_id('eleOWNER_GENDER').find_elements_by_tag_name(\"option\")[2].click()\n",
    "\n",
    "browser.find_element_by_id('eleOWNER_VETERAN').find_elements_by_tag_name(\"option\")[1].click()\n",
    "browser.find_element_by_id('eleBUSSIZE').find_elements_by_tag_name(\"option\")[3].click()\n",
    "browser.find_element_by_id('eleBUSTYPE').find_elements_by_tag_name(\"option\")[12].click()\n",
    "if df['Profit-structure-Business'][i] == 'Sole Proprietor':\n",
    "    browser.find_element_by_id('eleORGTYPE').find_elements_by_tag_name(\"option\")[5].click()\n",
    "elif df['Profit-structure-Business'][i] == 'S-Corporation':\n",
    "    browser.find_element_by_id('eleORGTYPE').find_elements_by_tag_name(\"option\")[6].click()\n",
    "elif df['Profit-structure-Business'][i] == 'C-Corporation':\n",
    "    browser.find_element_by_id('eleORGTYPE').find_elements_by_tag_name(\"option\")[1].click()\n",
    "elif df['Profit-structure-Business'][i] == 'Limited Liability Company':\n",
    "    browser.find_element_by_id('eleORGTYPE').find_elements_by_tag_name(\"option\")[2].click()\n",
    "elif df['Profit-structure-Business'][i] == 'Partnership':\n",
    "    browser.find_element_by_id('eleORGTYPE').find_elements_by_tag_name(\"option\")[4].click()\n",
    "else:\n",
    "    browser.find_element_by_id('eleORGTYPE').find_elements_by_tag_name(\"option\")[5].click()\n",
    "#browser.find_element_by_id('eleORGTYPE').find_elements_by_tag_name(\"option\")[5].click()\n",
    "\n",
    "browser.find_element_by_id('eleREFFROM').find_elements_by_tag_name(\"option\")[10].click()\n",
    "browser.find_element_by_id('elePRODUCT').send_keys(df['Type of Business'][i])\n",
    "\n",
    "#browser.find_element_by_id('main-edit-save-button').click()"
   ]
  },
  {
   "cell_type": "markdown",
   "metadata": {},
   "source": [
    "\n",
    "[Another Cell](#another_cell)"
   ]
  },
  {
   "cell_type": "code",
   "execution_count": 14,
   "metadata": {},
   "outputs": [],
   "source": [
    "def newpage():\n",
    "    browser.get('https://trisbdc.neoserra.com/clients/new')"
   ]
  },
  {
   "cell_type": "code",
   "execution_count": 15,
   "metadata": {},
   "outputs": [],
   "source": [
    "def page_1():\n",
    "    browser.find_element_by_id('s2id_counselid').click()\n",
    "    browser.find_element_by_id('s2id_autogen1_search').send_keys(df['Consultant Claimed'][i])\n",
    "    browser.find_element_by_id('s2id_autogen1_search').send_keys(Keys.TAB)\n",
    "\n",
    "    browser.find_element_by_id('company').send_keys(df['Name of the Business'][i])\n",
    "\n",
    "    browser.find_element_by_xpath('//*[@id=\"type2\"]/label[2]/span').click()\n",
    "\n",
    "    browser.find_element_by_xpath('//*[@id=\"status\"]/label[2]/span').click()\n",
    "    browser.find_element_by_id('estab').send_keys(int(df['Year Business Started'][i]))\n",
    "    #browser.find_element_by_id('estab').send_keys(\"2019\")\n",
    "\n",
    "    browser.find_element_by_id('first').send_keys(df['Name (First)'][i])\n",
    "    browser.find_element_by_id('last').send_keys(df['Name (Last)'][i])\n",
    "    browser.find_element_by_id('email').send_keys(df['Email Address'][i])\n",
    "    browser.find_element_by_id('phone').send_keys(df['Phone Number'][i])\n",
    "\n",
    "    browser.find_element_by_id('mailaddr').send_keys(df['Business Address (Address)'][i])\n",
    "    browser.find_element_by_id('mailcity').send_keys(df['Business Address (City)'][i])\n",
    "    browser.find_element_by_id('mailst').find_elements_by_tag_name(\"option\")[6].click()\n",
    "    browser.find_element_by_id('mailzip').send_keys(int(df['Business Address (Zip)'][i]))\n"
   ]
  },
  {
   "cell_type": "code",
   "execution_count": 16,
   "metadata": {},
   "outputs": [],
   "source": [
    "def page_2():\n",
    "    browser.find_element_by_id('eleFT_EMPS').clear()\n",
    "    if int(df['EMP COUNT'][i]) == 0:\n",
    "        browser.find_element_by_id('eleFT_EMPS').send_keys(1)\n",
    "    else:\n",
    "        browser.find_element_by_id('eleFT_EMPS').send_keys(int(df['EMP COUNT'][i]))\n",
    "    #browser.find_element_by_id('eleFT_EMPS').send_keys(1)\n",
    "\n",
    "    browser.find_element_by_id('eleOWNER_GENDER').find_elements_by_tag_name(\"option\")[2].click()\n",
    "\n",
    "    browser.find_element_by_id('eleOWNER_VETERAN').find_elements_by_tag_name(\"option\")[1].click()\n",
    "    browser.find_element_by_id('eleBUSSIZE').find_elements_by_tag_name(\"option\")[3].click()\n",
    "    browser.find_element_by_id('eleBUSTYPE').find_elements_by_tag_name(\"option\")[12].click()\n",
    "    \n",
    "    if df['Profit-structure-Business'][i] == 'Sole Proprietor':\n",
    "        browser.find_element_by_id('eleORGTYPE').find_elements_by_tag_name(\"option\")[5].click()\n",
    "    elif df['Profit-structure-Business'][i] == 'S-Corporation':\n",
    "        browser.find_element_by_id('eleORGTYPE').find_elements_by_tag_name(\"option\")[6].click()\n",
    "    elif df['Profit-structure-Business'][i] == 'C-Corporation':\n",
    "        browser.find_element_by_id('eleORGTYPE').find_elements_by_tag_name(\"option\")[1].click()\n",
    "    elif df['Profit-structure-Business'][i] == 'Limited Liability Company':\n",
    "        browser.find_element_by_id('eleORGTYPE').find_elements_by_tag_name(\"option\")[2].click()\n",
    "    elif df['Profit-structure-Business'][i] == 'Partnership':\n",
    "        browser.find_element_by_id('eleORGTYPE').find_elements_by_tag_name(\"option\")[4].click()\n",
    "    else:\n",
    "        browser.find_element_by_id('eleORGTYPE').find_elements_by_tag_name(\"option\")[5].click()\n",
    "    #browser.find_element_by_id('eleORGTYPE').find_elements_by_tag_name(\"option\")[5].click()\n",
    "    \n",
    "    browser.find_element_by_id('eleREFFROM').find_elements_by_tag_name(\"option\")[10].click()\n",
    "    browser.find_element_by_id('elePRODUCT').send_keys(df['Type of Business'][i])\n",
    "    #browser.find_element_by_id('elePRODUCT').send_keys(\"None\")\n",
    "    \n",
    "    client_id = browser.find_element_by_id('spanCLIENT')\n",
    "    print(client_id.text, df['Name of the Business'][i])"
   ]
  },
  {
   "cell_type": "code",
   "execution_count": 20,
   "metadata": {},
   "outputs": [
    {
     "name": "stdout",
     "output_type": "stream",
     "text": [
      "(20591) Red Hill Montessori Preschool\n",
      "(20592) Tustin Brewing Company\n",
      "(20593) Winston's Estate Gallery\n",
      "(20594) Leaf N Cream\n",
      "(20595) SHOUT KARAOKE\n",
      "(SANANA.10685) Hispanic Business Consultants\n",
      "Finished!\n"
     ]
    }
   ],
   "source": [
    "for i in range(3,9):\n",
    "    i = i-2\n",
    "    newpage()\n",
    "    browser.find_element_by_id('company').send_keys(df['Name of the Business'][i])\n",
    "    time.sleep(5)\n",
    "    du_client_id = browser.find_element_by_id('existing-client')\n",
    "    if du_client_id.text != \"\":\n",
    "        s = re.search(r\"\\((.*?)\\)\",du_client_id.text)\n",
    "        print(s.group(), df['Name of the Business'][i])\n",
    "        continue\n",
    "    page_1()\n",
    "    browser.find_element_by_id('main-edit-save-button').click()\n",
    "    time.sleep(2)\n",
    "    page_2()\n",
    "    browser.find_element_by_id('main-edit-save-button').click()\n",
    "print(\"Finished!\")"
   ]
  },
  {
   "cell_type": "code",
   "execution_count": 17,
   "metadata": {},
   "outputs": [],
   "source": [
    "## of row\n",
    "i = 2\n",
    "i = i-2"
   ]
  },
  {
   "cell_type": "code",
   "execution_count": 10,
   "metadata": {},
   "outputs": [],
   "source": [
    "newpage()"
   ]
  },
  {
   "cell_type": "code",
   "execution_count": 11,
   "metadata": {},
   "outputs": [],
   "source": [
    "page_1()"
   ]
  },
  {
   "cell_type": "code",
   "execution_count": 18,
   "metadata": {},
   "outputs": [
    {
     "name": "stdout",
     "output_type": "stream",
     "text": [
      "20590 UNI AMERICA, LLC\n"
     ]
    }
   ],
   "source": [
    "page_2()"
   ]
  },
  {
   "cell_type": "code",
   "execution_count": 12,
   "metadata": {},
   "outputs": [],
   "source": [
    "browser.find_element_by_id('email').clear()\n",
    "browser.find_element_by_id('email').send_keys(df['Email Address'][i])\n",
    "time.sleep(1)\n",
    "du_client_id = browser.find_element_by_id('existing-client')\n",
    "if du_client_id.text is not \"\":\n",
    "    s = re.search(r\"\\((.*?)\\)\",du_client_id.text)\n",
    "    print(s.group(), df['Name of the Business'][i])"
   ]
  },
  {
   "cell_type": "code",
   "execution_count": null,
   "metadata": {},
   "outputs": [],
   "source": [
    "for i in range(2,46):\n",
    "    i = i-2\n",
    "    #browser.find_element_by_id('email').clear()\n",
    "    #browser.find_element_by_id('email').send_keys(df['Email Address'][i])\n",
    "    browser.find_element_by_id('company').clear()\n",
    "    browser.find_element_by_id('company').send_keys(df['Name of the Business'][i])\n",
    "    time.sleep(2)\n",
    "    du_client_id = browser.find_element_by_id('existing-client')\n",
    "    if du_client_id.text is not \"\":\n",
    "        s = re.search(r\"\\((.*?)\\)\",du_client_id.text)\n",
    "        print(s.group(), df['Name of the Business'][i])\n",
    "    else:\n",
    "        print(i-2, df['Name of the Business'][i], \"Checked!\")"
   ]
  },
  {
   "cell_type": "code",
   "execution_count": null,
   "metadata": {},
   "outputs": [],
   "source": []
  }
 ],
 "metadata": {
  "kernelspec": {
   "display_name": "Python 3",
   "language": "python",
   "name": "python3"
  },
  "language_info": {
   "codemirror_mode": {
    "name": "ipython",
    "version": 3
   },
   "file_extension": ".py",
   "mimetype": "text/x-python",
   "name": "python",
   "nbconvert_exporter": "python",
   "pygments_lexer": "ipython3",
   "version": "3.8.5"
  }
 },
 "nbformat": 4,
 "nbformat_minor": 4
}
