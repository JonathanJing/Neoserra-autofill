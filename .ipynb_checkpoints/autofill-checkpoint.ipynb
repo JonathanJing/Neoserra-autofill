{
 "cells": [
  {
   "cell_type": "code",
   "execution_count": 1,
   "metadata": {},
   "outputs": [],
   "source": [
    "from selenium import webdriver\n",
    "from selenium.webdriver.common.keys import Keys\n",
    "import pandas as pd\n",
    "import time\n",
    "import re"
   ]
  },
  {
   "cell_type": "code",
   "execution_count": 3,
   "metadata": {},
   "outputs": [],
   "source": [
    "df = pd.read_csv(r\"C:\\Users\\Jonathan\\Downloads\\hbaltp3.csv\")\n",
    "##df['Year-Started-Business'][98]"
   ]
  },
  {
   "cell_type": "code",
   "execution_count": 18,
   "metadata": {},
   "outputs": [],
   "source": [
    "df = pd.read_excel(r\"C:\\Users\\Jonathan\\Downloads\\flist.xlsx\", sheet_name = 1)"
   ]
  },
  {
   "cell_type": "code",
   "execution_count": null,
   "metadata": {},
   "outputs": [],
   "source": [
    "list(df.columns)"
   ]
  },
  {
   "cell_type": "code",
   "execution_count": 15,
   "metadata": {},
   "outputs": [],
   "source": [
    "browser = webdriver.Chrome()\n",
    "browser.get('https://trisbdc.neoserra.com/clients/new')\n",
    "username = browser.find_element_by_id('username')\n",
    "username.send_keys('zjing')\n",
    "password = browser.find_element_by_xpath('//*[@id=\"loginpanel\"]/form/table/tbody/tr[2]/td[2]/input')\n",
    "password.send_keys('03172020')\n",
    "signInButton = browser.find_element_by_id('submit')\n",
    "signInButton.click()"
   ]
  },
  {
   "cell_type": "code",
   "execution_count": 10,
   "metadata": {},
   "outputs": [],
   "source": [
    "## of row\n",
    "i = 2\n",
    "i = i-2"
   ]
  },
  {
   "cell_type": "markdown",
   "metadata": {},
   "source": [
    "<a id=\"another_cell\"></a>"
   ]
  },
  {
   "cell_type": "code",
   "execution_count": 1,
   "metadata": {},
   "outputs": [],
   "source": [
    "def newpage():\n",
    "    browser.get('https://trisbdc.neoserra.com/clients/new')\n",
    "\n",
    "def page_1():\n",
    "    browser.find_element_by_id('s2id_counselid').click()\n",
    "    browser.find_element_by_id('s2id_autogen1_search').send_keys(df['Consultant Claimed'][i])\n",
    "    browser.find_element_by_id('s2id_autogen1_search').send_keys(Keys.TAB)\n",
    "\n",
    "    browser.find_element_by_id('company').send_keys(df['Name of the Business'][i])\n",
    "\n",
    "    browser.find_element_by_xpath('//*[@id=\"type2\"]/label[2]/span').click()\n",
    "\n",
    "    browser.find_element_by_xpath('//*[@id=\"status\"]/label[2]/span').click()\n",
    "    browser.find_element_by_id('estab').send_keys(int(df['Year Business Started'][i]))\n",
    "    #browser.find_element_by_id('estab').send_keys(\"2019\")\n",
    "\n",
    "    browser.find_element_by_id('first').send_keys(df['Name (First)'][i])\n",
    "    #browser.find_element_by_id('first').send_keys('NA')\n",
    "    browser.find_element_by_id('last').send_keys(df['Name (Last)'][i])\n",
    "    #browser.find_element_by_id('last').send_keys('NA')\n",
    "    browser.find_element_by_id('email').send_keys(df['Email Address'][i])\n",
    "    browser.find_element_by_id('phone').send_keys(df['Phone Number'][i])\n",
    "\n",
    "    browser.find_element_by_id('mailaddr').send_keys(df['Business Address (Address)'][i])\n",
    "    browser.find_element_by_id('mailcity').send_keys(df['Business Address (City)'][i])\n",
    "    #browser.find_element_by_id('mailcity').send_keys('Tustin')\n",
    "    browser.find_element_by_id('mailst').find_elements_by_tag_name(\"option\")[6].click()\n",
    "    browser.find_element_by_id('mailzip').send_keys(int(df['Business Address (Zip)'][i]))\n",
    "    #browser.find_element_by_id('mailzip').send_keys('92780')\n",
    "\n",
    "def page_2():\n",
    "    browser.find_element_by_id('eleFT_EMPS').clear()\n",
    "    if int(df['EMP COUNT'][i]) == 0:\n",
    "        browser.find_element_by_id('eleFT_EMPS').send_keys(1)\n",
    "    else:\n",
    "        browser.find_element_by_id('eleFT_EMPS').send_keys(int(df['EMP COUNT'][i]))\n",
    "    #browser.find_element_by_id('eleFT_EMPS').send_keys(1)\n",
    "\n",
    "    browser.find_element_by_id('eleOWNER_GENDER').find_elements_by_tag_name(\"option\")[2].click()\n",
    "\n",
    "    browser.find_element_by_id('eleOWNER_VETERAN').find_elements_by_tag_name(\"option\")[1].click()\n",
    "    browser.find_element_by_id('eleBUSSIZE').find_elements_by_tag_name(\"option\")[3].click()\n",
    "    browser.find_element_by_id('eleBUSTYPE').find_elements_by_tag_name(\"option\")[12].click()\n",
    "    \n",
    "    if df['Profit-structure-Business'][i] == 'Sole Proprietor':\n",
    "        browser.find_element_by_id('eleORGTYPE').find_elements_by_tag_name(\"option\")[5].click()\n",
    "    elif df['Profit-structure-Business'][i] == 'S-Corporation':\n",
    "        browser.find_element_by_id('eleORGTYPE').find_elements_by_tag_name(\"option\")[6].click()\n",
    "    elif df['Profit-structure-Business'][i] == 'C-Corporation':\n",
    "        browser.find_element_by_id('eleORGTYPE').find_elements_by_tag_name(\"option\")[1].click()\n",
    "    elif df['Profit-structure-Business'][i] == 'Limited Liability Company':\n",
    "        browser.find_element_by_id('eleORGTYPE').find_elements_by_tag_name(\"option\")[2].click()\n",
    "    elif df['Profit-structure-Business'][i] == 'Partnership':\n",
    "        browser.find_element_by_id('eleORGTYPE').find_elements_by_tag_name(\"option\")[4].click()\n",
    "    else:\n",
    "        browser.find_element_by_id('eleORGTYPE').find_elements_by_tag_name(\"option\")[5].click()\n",
    "    #browser.find_element_by_id('eleORGTYPE').find_elements_by_tag_name(\"option\")[5].click()\n",
    "    \n",
    "    browser.find_element_by_id('eleREFFROM').find_elements_by_tag_name(\"option\")[10].click()\n",
    "    browser.find_element_by_id('elePRODUCT').send_keys(df['Type of Business'][i])\n",
    "    #browser.find_element_by_id('elePRODUCT').send_keys(\"None\")\n",
    "    \n",
    "    client_id = browser.find_element_by_id('spanCLIENT')\n",
    "    print(client_id.text, df['Name of the Business'][i])"
   ]
  },
  {
   "cell_type": "code",
   "execution_count": 24,
   "metadata": {},
   "outputs": [
    {
     "name": "stdout",
     "output_type": "stream",
     "text": [
      "19305 LVC OPTOMETRY\n",
      "19306 MJ PASILLAS LLC\n",
      "19307 My Place Sports Bar & Grill\n",
      "(19108) NEWPORT COAST SURGICAL INSTITUTE\n",
      "(19109) NGOC MINH THI NGUYEN\n",
      "(19117) ORANGE COUNTY DIESEL, INC.\n",
      "(19119) ORANGE GRILL\n",
      "19308 Ouzo & Feta\n",
      "19309 Porcelain Hair Studio \n",
      "(19136) PUSSYCAT PINUPS PHOTOGRAPHY\n",
      "19310 QUAERE, INC.\n",
      "(19138) RE/MAX TERRASOL\n",
      "(19161) SURF & SPORT MASSAGE THERAPY\n",
      "19311 Tom Vo's Taekwondo\n",
      "19312 Tumbleweeds Bar & Grill\n",
      "(19181) UFO DESIGNS\n",
      "19313 VIA HAIR\n",
      "(19189) WARNER SERVICE INC.\n",
      "Finished!\n"
     ]
    }
   ],
   "source": [
    "for i in range(21,39):\n",
    "    i = i-2\n",
    "    newpage()\n",
    "    browser.find_element_by_id('company').send_keys(df['Name of the Business'][i])\n",
    "    time.sleep(5)\n",
    "    du_client_id = browser.find_element_by_id('existing-client')\n",
    "    if du_client_id.text != \"\":\n",
    "        s = re.search(r\"\\((.*?)\\)\",du_client_id.text)\n",
    "        print(s.group(), df['Name of the Business'][i])\n",
    "        continue\n",
    "    page_1()\n",
    "    browser.find_element_by_id('main-edit-save-button').click()\n",
    "    time.sleep(2)\n",
    "    page_2()\n",
    "    browser.find_element_by_id('main-edit-save-button').click()\n",
    "print(\"Finished!\")"
   ]
  },
  {
   "cell_type": "code",
   "execution_count": 20,
   "metadata": {},
   "outputs": [],
   "source": [
    "## of row\n",
    "i = 8\n",
    "i = i-2"
   ]
  },
  {
   "cell_type": "code",
   "execution_count": 2,
   "metadata": {},
   "outputs": [
    {
     "ename": "NameError",
     "evalue": "name 'browser' is not defined",
     "output_type": "error",
     "traceback": [
      "\u001b[1;31m---------------------------------------------------------------------------\u001b[0m",
      "\u001b[1;31mNameError\u001b[0m                                 Traceback (most recent call last)",
      "\u001b[1;32m<ipython-input-2-893adb46daf0>\u001b[0m in \u001b[0;36m<module>\u001b[1;34m\u001b[0m\n\u001b[1;32m----> 1\u001b[1;33m \u001b[0mnewpage\u001b[0m\u001b[1;33m(\u001b[0m\u001b[1;33m)\u001b[0m\u001b[1;33m\u001b[0m\u001b[1;33m\u001b[0m\u001b[0m\n\u001b[0m",
      "\u001b[1;32m<ipython-input-1-06632014e9c8>\u001b[0m in \u001b[0;36mnewpage\u001b[1;34m()\u001b[0m\n\u001b[0;32m      1\u001b[0m \u001b[1;32mdef\u001b[0m \u001b[0mnewpage\u001b[0m\u001b[1;33m(\u001b[0m\u001b[1;33m)\u001b[0m\u001b[1;33m:\u001b[0m\u001b[1;33m\u001b[0m\u001b[1;33m\u001b[0m\u001b[0m\n\u001b[1;32m----> 2\u001b[1;33m     \u001b[0mbrowser\u001b[0m\u001b[1;33m.\u001b[0m\u001b[0mget\u001b[0m\u001b[1;33m(\u001b[0m\u001b[1;34m'https://trisbdc.neoserra.com/clients/new'\u001b[0m\u001b[1;33m)\u001b[0m\u001b[1;33m\u001b[0m\u001b[1;33m\u001b[0m\u001b[0m\n\u001b[0m\u001b[0;32m      3\u001b[0m \u001b[1;33m\u001b[0m\u001b[0m\n\u001b[0;32m      4\u001b[0m \u001b[1;32mdef\u001b[0m \u001b[0mpage_1\u001b[0m\u001b[1;33m(\u001b[0m\u001b[1;33m)\u001b[0m\u001b[1;33m:\u001b[0m\u001b[1;33m\u001b[0m\u001b[1;33m\u001b[0m\u001b[0m\n\u001b[0;32m      5\u001b[0m     \u001b[0mbrowser\u001b[0m\u001b[1;33m.\u001b[0m\u001b[0mfind_element_by_id\u001b[0m\u001b[1;33m(\u001b[0m\u001b[1;34m's2id_counselid'\u001b[0m\u001b[1;33m)\u001b[0m\u001b[1;33m.\u001b[0m\u001b[0mclick\u001b[0m\u001b[1;33m(\u001b[0m\u001b[1;33m)\u001b[0m\u001b[1;33m\u001b[0m\u001b[1;33m\u001b[0m\u001b[0m\n",
      "\u001b[1;31mNameError\u001b[0m: name 'browser' is not defined"
     ]
    }
   ],
   "source": [
    "newpage()"
   ]
  },
  {
   "cell_type": "code",
   "execution_count": 22,
   "metadata": {},
   "outputs": [],
   "source": [
    "page_1()"
   ]
  },
  {
   "cell_type": "code",
   "execution_count": 23,
   "metadata": {},
   "outputs": [
    {
     "name": "stdout",
     "output_type": "stream",
     "text": [
      "19304 chance's custom woodworks\n"
     ]
    }
   ],
   "source": [
    "page_2()"
   ]
  },
  {
   "cell_type": "code",
   "execution_count": 12,
   "metadata": {},
   "outputs": [],
   "source": [
    "browser.find_element_by_id('email').clear()\n",
    "browser.find_element_by_id('email').send_keys(df['Email Address'][i])\n",
    "time.sleep(1)\n",
    "du_client_id = browser.find_element_by_id('existing-client')\n",
    "if du_client_id.text is not \"\":\n",
    "    s = re.search(r\"\\((.*?)\\)\",du_client_id.text)\n",
    "    print(s.group(), df['Name of the Business'][i])"
   ]
  },
  {
   "cell_type": "code",
   "execution_count": null,
   "metadata": {},
   "outputs": [],
   "source": []
  }
 ],
 "metadata": {
  "kernelspec": {
   "display_name": "Python 3",
   "language": "python",
   "name": "python3"
  },
  "language_info": {
   "codemirror_mode": {
    "name": "ipython",
    "version": 3
   },
   "file_extension": ".py",
   "mimetype": "text/x-python",
   "name": "python",
   "nbconvert_exporter": "python",
   "pygments_lexer": "ipython3",
   "version": "3.8.5"
  }
 },
 "nbformat": 4,
 "nbformat_minor": 4
}
